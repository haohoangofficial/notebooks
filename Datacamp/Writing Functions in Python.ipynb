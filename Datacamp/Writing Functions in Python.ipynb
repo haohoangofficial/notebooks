{
 "cells": [
  {
   "cell_type": "markdown",
   "id": "2a266257",
   "metadata": {},
   "source": [
    "# 3 Decorators\n",
    "\n",
    "Decorator là một khái niệm cực kỳ mạnh mẽ trong Python. Chúng cho phép bạn sửa đổi hành vi của một hàm mà không cần thay đổi mã của chính hàm đó. Chương này sẽ đưa ra các khái niệm cơ bản cần thiết để hiểu cặn kẽ về decorator (các chức năng như đối tượng, phạm vi và bao đóng), đồng thời cung cấp cho bạn phần giới thiệu tốt về cách sử dụng và định nghĩa decorator. Việc đi sâu vào nội bộ Python này sẽ giúp bạn trở thành một siêu sao Pythonista."
   ]
  },
  {
   "cell_type": "markdown",
   "id": "e2d54189",
   "metadata": {},
   "source": [
    "## Closures keep your values safe\n"
   ]
  },
  {
   "cell_type": "markdown",
   "id": "c7f6e208",
   "metadata": {},
   "source": [
    "# 4. More on Decorators\n",
    "## Time a fuction"
   ]
  },
  {
   "cell_type": "code",
   "execution_count": 3,
   "id": "87f9e8ec",
   "metadata": {},
   "outputs": [],
   "source": [
    "import time\n",
    "def timer(func):\n",
    "    \"\"\"\n",
    "        A decorator that prints how long a function took to run.\n",
    "        Args:\n",
    "            func(callable): The function being decorated.\n",
    "        Returns:\n",
    "            callable: The decorated function\n",
    "    \"\"\"\n"
   ]
  },
  {
   "cell_type": "markdown",
   "id": "2565db83",
   "metadata": {},
   "source": [
    "## Decorators and  metadata"
   ]
  },
  {
   "cell_type": "code",
   "execution_count": 5,
   "id": "67569de6",
   "metadata": {},
   "outputs": [
    {
     "name": "stdout",
     "output_type": "stream",
     "text": [
      "sleep_n_seconds\n",
      "(10,)\n"
     ]
    }
   ],
   "source": [
    "def sleep_n_seconds(n=10):\n",
    "    time.sleep(n)\n",
    "print(sleep_n_seconds.__name__)\n",
    "print(sleep_n_seconds.__defaults__)"
   ]
  },
  {
   "cell_type": "code",
   "execution_count": null,
   "id": "4f3e1cd1",
   "metadata": {},
   "outputs": [],
   "source": []
  }
 ],
 "metadata": {
  "kernelspec": {
   "display_name": "Python 3 (ipykernel)",
   "language": "python",
   "name": "python3"
  },
  "language_info": {
   "codemirror_mode": {
    "name": "ipython",
    "version": 3
   },
   "file_extension": ".py",
   "mimetype": "text/x-python",
   "name": "python",
   "nbconvert_exporter": "python",
   "pygments_lexer": "ipython3",
   "version": "3.9.6"
  }
 },
 "nbformat": 4,
 "nbformat_minor": 5
}
