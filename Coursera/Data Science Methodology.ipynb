{
 "cells": [
  {
   "cell_type": "markdown",
   "id": "fe60eded",
   "metadata": {},
   "source": [
    "# Week 1"
   ]
  },
  {
   "cell_type": "markdown",
   "id": "9b2907cd",
   "metadata": {},
   "source": [
    "## From Problem to Approach\n",
    "### Business Understanding\n",
    "#### The importance of questions (tầm quan trọng của câu hỏi)\n",
    "\n"
   ]
  }
 ],
 "metadata": {
  "kernelspec": {
   "display_name": "Python 3 (ipykernel)",
   "language": "python",
   "name": "python3"
  },
  "language_info": {
   "codemirror_mode": {
    "name": "ipython",
    "version": 3
   },
   "file_extension": ".py",
   "mimetype": "text/x-python",
   "name": "python",
   "nbconvert_exporter": "python",
   "pygments_lexer": "ipython3",
   "version": "3.9.6"
  }
 },
 "nbformat": 4,
 "nbformat_minor": 5
}
